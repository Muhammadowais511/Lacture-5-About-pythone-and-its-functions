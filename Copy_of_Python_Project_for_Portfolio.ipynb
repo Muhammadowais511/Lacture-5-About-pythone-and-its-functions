{
  "nbformat": 4,
  "nbformat_minor": 0,
  "metadata": {
    "colab": {
      "provenance": [],
      "authorship_tag": "ABX9TyOc5sE/QIlkerpkzAYbDidW",
      "include_colab_link": true
    },
    "kernelspec": {
      "name": "python3",
      "display_name": "Python 3"
    },
    "language_info": {
      "name": "python"
    }
  },
  "cells": [
    {
      "cell_type": "markdown",
      "metadata": {
        "id": "view-in-github",
        "colab_type": "text"
      },
      "source": [
        "<a href=\"https://colab.research.google.com/github/Muhammadowais511/Lacture-5-About-pythone-and-its-functions/blob/main/Copy_of_Python_Project_for_Portfolio.ipynb\" target=\"_parent\"><img src=\"https://colab.research.google.com/assets/colab-badge.svg\" alt=\"Open In Colab\"/></a>"
      ]
    },
    {
      "cell_type": "code",
      "execution_count": null,
      "metadata": {
        "colab": {
          "base_uri": "https://localhost:8080/"
        },
        "id": "iEdjzqD422N-",
        "outputId": "2b39d249-2872-46ee-97fc-a1226133ccb7"
      },
      "outputs": [
        {
          "output_type": "stream",
          "name": "stdout",
          "text": [
            "My Name Is Owais\n"
          ]
        }
      ],
      "source": [
        "print (\"My Name Is Owais\")"
      ]
    },
    {
      "cell_type": "code",
      "source": [
        "Name = \"Owais\"\n",
        "City = \"Karachi\"\n",
        "Age  =  27"
      ],
      "metadata": {
        "id": "gu2c9GEs3Br9"
      },
      "execution_count": null,
      "outputs": []
    },
    {
      "cell_type": "code",
      "source": [
        "print (Name)\n",
        "print (City)\n",
        "print (Age)"
      ],
      "metadata": {
        "colab": {
          "base_uri": "https://localhost:8080/"
        },
        "id": "kMayNvrQ3V-B",
        "outputId": "fd90569c-9f1f-49d5-d1b6-61138b9f2094"
      },
      "execution_count": null,
      "outputs": [
        {
          "output_type": "stream",
          "name": "stdout",
          "text": [
            "Owais\n",
            "Karachi\n",
            "27\n"
          ]
        }
      ]
    },
    {
      "cell_type": "code",
      "source": [
        "print (\"My Name Is\" , Name , \"and I Am\" , Age , \"Years old\")"
      ],
      "metadata": {
        "colab": {
          "base_uri": "https://localhost:8080/"
        },
        "id": "W2YOE5Pn3gm8",
        "outputId": "cee6246a-a9bc-485d-a22f-e36404f7c37a"
      },
      "execution_count": null,
      "outputs": [
        {
          "output_type": "stream",
          "name": "stdout",
          "text": [
            "My Name Is Owais and I Am 27 Years old\n"
          ]
        }
      ]
    },
    {
      "cell_type": "code",
      "source": [
        "Arithmetic Operators"
      ],
      "metadata": {
        "id": "XyxjR3W14EdB"
      },
      "execution_count": null,
      "outputs": []
    },
    {
      "cell_type": "code",
      "source": [
        "A = 10\n",
        "B = 3"
      ],
      "metadata": {
        "id": "7QwvwnrW9zlb"
      },
      "execution_count": null,
      "outputs": []
    },
    {
      "cell_type": "code",
      "source": [
        "print (A+B)\n",
        "print (A-B)\n",
        "print (A*B)\n",
        "print (A/B)\n",
        "print (A%B)\n",
        "print (A**B)\n",
        "print (A//B)"
      ],
      "metadata": {
        "colab": {
          "base_uri": "https://localhost:8080/"
        },
        "id": "ncnhoInW98lS",
        "outputId": "25b0e2c0-ddbf-4bc8-d19d-4de573ee876c"
      },
      "execution_count": null,
      "outputs": [
        {
          "output_type": "stream",
          "name": "stdout",
          "text": [
            "13\n",
            "7\n",
            "30\n",
            "3.3333333333333335\n",
            "1\n",
            "1000\n",
            "3\n"
          ]
        }
      ]
    },
    {
      "cell_type": "code",
      "source": [
        "Shortcuts For Operators"
      ],
      "metadata": {
        "id": "fHMuXoX5-9m9"
      },
      "execution_count": null,
      "outputs": []
    },
    {
      "cell_type": "code",
      "source": [
        "A += 23"
      ],
      "metadata": {
        "id": "05JrUzDz_IHN"
      },
      "execution_count": null,
      "outputs": []
    },
    {
      "cell_type": "code",
      "source": [
        "print (A)"
      ],
      "metadata": {
        "colab": {
          "base_uri": "https://localhost:8080/"
        },
        "id": "JSOXlNTr_VID",
        "outputId": "e2fae50d-20a9-44dd-c9db-3118206f7bef"
      },
      "execution_count": null,
      "outputs": [
        {
          "output_type": "stream",
          "name": "stdout",
          "text": [
            "33\n"
          ]
        }
      ]
    },
    {
      "cell_type": "code",
      "source": [
        "if/else (Decision Making)"
      ],
      "metadata": {
        "id": "Tn6BYvWo_Y9Q"
      },
      "execution_count": null,
      "outputs": []
    },
    {
      "cell_type": "code",
      "source": [
        "Marks = 75\n",
        "if Marks >= 50:\n",
        "   print (\"Pass\")\n",
        "else:\n",
        "   print (\"Fail\")"
      ],
      "metadata": {
        "colab": {
          "base_uri": "https://localhost:8080/"
        },
        "id": "evyTEEK5_qFD",
        "outputId": "036e699f-5730-4bfa-b381-0e2b27d3a6b7"
      },
      "execution_count": null,
      "outputs": [
        {
          "output_type": "stream",
          "name": "stdout",
          "text": [
            "Pass\n"
          ]
        }
      ]
    },
    {
      "cell_type": "code",
      "source": [
        "elif"
      ],
      "metadata": {
        "id": "BrT5SKq1AObA"
      },
      "execution_count": null,
      "outputs": []
    },
    {
      "cell_type": "code",
      "source": [
        "Marks = 85\n",
        "if Marks >= 90:\n",
        "   print (\"Grade A+\")\n",
        "\n",
        "elif Marks >= 80:\n",
        "   print (\"Grade A\")\n",
        "\n",
        "elif Marks >= 70:\n",
        "   print (\"Grade B\")\n",
        "\n",
        "else:\n",
        "   print (\"fail\")"
      ],
      "metadata": {
        "colab": {
          "base_uri": "https://localhost:8080/"
        },
        "id": "BNf8zFrfAQYO",
        "outputId": "cfcc2f13-39a8-4b52-a8b0-3877e586c947"
      },
      "execution_count": null,
      "outputs": [
        {
          "output_type": "stream",
          "name": "stdout",
          "text": [
            "Grade A\n"
          ]
        }
      ]
    },
    {
      "cell_type": "code",
      "source": [
        "Some More Functions Of Python"
      ],
      "metadata": {
        "id": "WqbnwJ48DM7p"
      },
      "execution_count": null,
      "outputs": []
    },
    {
      "cell_type": "code",
      "source": [
        "A = \"\"\" I am using google colab for practicing python\n",
        "and I have learned so many functions of python for learning AI.\"\"\""
      ],
      "metadata": {
        "id": "A2sTY_wIBLxt"
      },
      "execution_count": null,
      "outputs": []
    },
    {
      "cell_type": "code",
      "source": [
        "print (A)"
      ],
      "metadata": {
        "colab": {
          "base_uri": "https://localhost:8080/"
        },
        "id": "ZOweJ9YYC6rp",
        "outputId": "a4d3068b-0070-4928-b2aa-e8e406cdafba"
      },
      "execution_count": null,
      "outputs": [
        {
          "output_type": "stream",
          "name": "stdout",
          "text": [
            " I am using google colab for practicing python\n",
            "and I have learned so many functions of python for learning AI.\n"
          ]
        }
      ]
    },
    {
      "cell_type": "code",
      "source": [
        "print (A.upper())"
      ],
      "metadata": {
        "colab": {
          "base_uri": "https://localhost:8080/"
        },
        "id": "5c8Nx6A2DCZ5",
        "outputId": "bba508ce-d4de-440a-f04b-1bf89524cbe4"
      },
      "execution_count": null,
      "outputs": [
        {
          "output_type": "stream",
          "name": "stdout",
          "text": [
            " I AM USING GOOGLE COLAB FOR PRACTICING PYTHON\n",
            "AND I HAVE LEARNED SO MANY FUNCTIONS OF PYTHON FOR LEARNING AI.\n"
          ]
        }
      ]
    },
    {
      "cell_type": "code",
      "source": [
        "print (A.lower())"
      ],
      "metadata": {
        "colab": {
          "base_uri": "https://localhost:8080/"
        },
        "id": "uk2SO8PKDajR",
        "outputId": "2a9e157a-08be-42ac-b659-d0e786672c79"
      },
      "execution_count": null,
      "outputs": [
        {
          "output_type": "stream",
          "name": "stdout",
          "text": [
            " i am using google colab for practicing python\n",
            "and i have learned so many functions of python for learning ai.\n"
          ]
        }
      ]
    },
    {
      "cell_type": "code",
      "source": [
        "print (A.strip())"
      ],
      "metadata": {
        "colab": {
          "base_uri": "https://localhost:8080/"
        },
        "id": "sWi3KMPODgKJ",
        "outputId": "e39b1af1-8771-4c61-b1f6-8bddfc7bc9f6"
      },
      "execution_count": null,
      "outputs": [
        {
          "output_type": "stream",
          "name": "stdout",
          "text": [
            "I am using google colab for practicing python\n",
            "and I have learned so many functions of python for learning AI.\n"
          ]
        }
      ]
    },
    {
      "cell_type": "code",
      "source": [
        "print (A.replace (\"u\" , \"v\"))"
      ],
      "metadata": {
        "colab": {
          "base_uri": "https://localhost:8080/"
        },
        "id": "B8R70-zPDtRK",
        "outputId": "bde5c4c0-1431-46be-d838-22d08f84341c"
      },
      "execution_count": null,
      "outputs": [
        {
          "output_type": "stream",
          "name": "stdout",
          "text": [
            " I am vsing google colab for practicing python\n",
            "and I have learned so many fvnctions of python for learning AI.\n"
          ]
        }
      ]
    },
    {
      "cell_type": "code",
      "source": [
        "print (A.split (\",\"))"
      ],
      "metadata": {
        "colab": {
          "base_uri": "https://localhost:8080/"
        },
        "id": "-UQBg2Y1EHws",
        "outputId": "51137e52-11ce-477f-f4a0-6a5ad4ed7bd6"
      },
      "execution_count": null,
      "outputs": [
        {
          "output_type": "stream",
          "name": "stdout",
          "text": [
            "[' I am using google colab for practicing python\\nand I have learned so many functions of python for learning AI.']\n"
          ]
        }
      ]
    },
    {
      "cell_type": "code",
      "source": [
        "List"
      ],
      "metadata": {
        "id": "nXX0ZEcyNMjw"
      },
      "execution_count": null,
      "outputs": []
    },
    {
      "cell_type": "code",
      "source": [
        "X = [ 1 , \"A\" , \"Banana\" , \"Tomato\" ]"
      ],
      "metadata": {
        "id": "X0wiM9fqEfBU"
      },
      "execution_count": null,
      "outputs": []
    },
    {
      "cell_type": "code",
      "source": [
        "print (X)"
      ],
      "metadata": {
        "colab": {
          "base_uri": "https://localhost:8080/"
        },
        "id": "JWW0Y4VNHC3y",
        "outputId": "4d56fee9-c8d3-4579-e503-c2ee41441982"
      },
      "execution_count": null,
      "outputs": [
        {
          "output_type": "stream",
          "name": "stdout",
          "text": [
            "[1, 'A', 'Banana', 'Tomato']\n"
          ]
        }
      ]
    },
    {
      "cell_type": "code",
      "source": [
        "X.append (\"Tomato\")"
      ],
      "metadata": {
        "id": "JtMt1_5iHfgS"
      },
      "execution_count": null,
      "outputs": []
    },
    {
      "cell_type": "code",
      "source": [
        "print (X)"
      ],
      "metadata": {
        "colab": {
          "base_uri": "https://localhost:8080/"
        },
        "id": "fiU3kGzzJ6Ee",
        "outputId": "67654796-4207-438b-aa5b-89984c5e7bff"
      },
      "execution_count": null,
      "outputs": [
        {
          "output_type": "stream",
          "name": "stdout",
          "text": [
            "[1, 'A', 'Banana', 'Tomato', 'Tomato']\n"
          ]
        }
      ]
    },
    {
      "cell_type": "code",
      "source": [
        "print (X [3])"
      ],
      "metadata": {
        "colab": {
          "base_uri": "https://localhost:8080/"
        },
        "id": "P2JRNsnHKBG5",
        "outputId": "5c57eb26-507b-40cc-cc5e-e5f7edb10a45"
      },
      "execution_count": null,
      "outputs": [
        {
          "output_type": "stream",
          "name": "stdout",
          "text": [
            "Tomato\n"
          ]
        }
      ]
    },
    {
      "cell_type": "code",
      "source": [
        "print (len(X))"
      ],
      "metadata": {
        "colab": {
          "base_uri": "https://localhost:8080/"
        },
        "id": "QeNgO7BvKbQ4",
        "outputId": "85020626-baff-440d-b47e-422a495743af"
      },
      "execution_count": null,
      "outputs": [
        {
          "output_type": "stream",
          "name": "stdout",
          "text": [
            "5\n"
          ]
        }
      ]
    },
    {
      "cell_type": "code",
      "source": [
        "Tuple (Tuple is Unchangable)"
      ],
      "metadata": {
        "id": "ZyfEVyNoNAKN"
      },
      "execution_count": null,
      "outputs": []
    },
    {
      "cell_type": "code",
      "source": [
        "X = ( 1 , \"A\" , \"Banana\" , \"Tomato\" )"
      ],
      "metadata": {
        "id": "FJY-ygXrNQsi"
      },
      "execution_count": null,
      "outputs": []
    },
    {
      "cell_type": "code",
      "source": [
        "print (X)"
      ],
      "metadata": {
        "colab": {
          "base_uri": "https://localhost:8080/"
        },
        "id": "-fgc07zmNUBv",
        "outputId": "0b8591e0-201e-4753-d190-23df887a6fd7"
      },
      "execution_count": null,
      "outputs": [
        {
          "output_type": "stream",
          "name": "stdout",
          "text": [
            "(1, 'A', 'Banana', 'Tomato')\n"
          ]
        }
      ]
    },
    {
      "cell_type": "code",
      "source": [
        "Tuple (One Item)"
      ],
      "metadata": {
        "id": "0GFrBk67NcO3"
      },
      "execution_count": null,
      "outputs": []
    },
    {
      "cell_type": "code",
      "source": [
        "Z = (\"Pomegranate\",)"
      ],
      "metadata": {
        "id": "jIpqkwhDN4Ce"
      },
      "execution_count": null,
      "outputs": []
    },
    {
      "cell_type": "code",
      "source": [
        "print (Z)"
      ],
      "metadata": {
        "colab": {
          "base_uri": "https://localhost:8080/"
        },
        "id": "7fumQwOjODME",
        "outputId": "4d401c94-93ba-46c1-eb89-68a6f0cd4c7f"
      },
      "execution_count": null,
      "outputs": [
        {
          "output_type": "stream",
          "name": "stdout",
          "text": [
            "('Pomegranate',)\n"
          ]
        }
      ]
    },
    {
      "cell_type": "code",
      "source": [
        "Python Sets"
      ],
      "metadata": {
        "id": "eG7w9Vf_OSxV"
      },
      "execution_count": null,
      "outputs": []
    },
    {
      "cell_type": "code",
      "source": [
        "X = { 1 , \"A\" , \"Banana\" , \"Tomato\" , \"Tomato\" }"
      ],
      "metadata": {
        "id": "T6EAQVxMOWry"
      },
      "execution_count": null,
      "outputs": []
    },
    {
      "cell_type": "code",
      "source": [
        "print (X)"
      ],
      "metadata": {
        "colab": {
          "base_uri": "https://localhost:8080/"
        },
        "id": "EQZUtRcYPA-z",
        "outputId": "c80f78ad-9f53-441e-b281-7d1029efdbf5"
      },
      "execution_count": null,
      "outputs": [
        {
          "output_type": "stream",
          "name": "stdout",
          "text": [
            "{1, 'Banana', 'A', 'Tomato'}\n"
          ]
        }
      ]
    },
    {
      "cell_type": "code",
      "source": [
        "print (type(X))\n",
        "print (type(Z))"
      ],
      "metadata": {
        "colab": {
          "base_uri": "https://localhost:8080/"
        },
        "id": "rJFndMr8PF5p",
        "outputId": "ba268def-e12c-4005-929e-2577ecb7790a"
      },
      "execution_count": null,
      "outputs": [
        {
          "output_type": "stream",
          "name": "stdout",
          "text": [
            "<class 'set'>\n",
            "<class 'tuple'>\n"
          ]
        }
      ]
    },
    {
      "cell_type": "code",
      "source": [
        "T = {\"Job\": \"Teaching\", \"Department\": \"FOA\", \"Branch\": \"Aqsa Branch\",}"
      ],
      "metadata": {
        "id": "i6FzuQBMPnKm"
      },
      "execution_count": null,
      "outputs": []
    },
    {
      "cell_type": "code",
      "source": [
        "print (T)"
      ],
      "metadata": {
        "colab": {
          "base_uri": "https://localhost:8080/"
        },
        "id": "TQvWe7QISnFW",
        "outputId": "0184708f-f851-4fba-a963-0ebd2aff5fe5"
      },
      "execution_count": null,
      "outputs": [
        {
          "output_type": "stream",
          "name": "stdout",
          "text": [
            "{'Job': 'Teaching', 'Department': 'FOA', 'Branch': 'Aqsa Branch'}\n"
          ]
        }
      ]
    },
    {
      "cell_type": "code",
      "source": [
        "print (T[\"Department\"])"
      ],
      "metadata": {
        "colab": {
          "base_uri": "https://localhost:8080/"
        },
        "id": "HE5wZkaKSuh7",
        "outputId": "d5d554e9-a1cf-4c9c-9f5c-35688824ccc8"
      },
      "execution_count": null,
      "outputs": [
        {
          "output_type": "stream",
          "name": "stdout",
          "text": [
            "FOA\n"
          ]
        }
      ]
    },
    {
      "cell_type": "code",
      "source": [
        "Length Functions"
      ],
      "metadata": {
        "id": "Ep1YvKa6cVXt"
      },
      "execution_count": null,
      "outputs": []
    },
    {
      "cell_type": "code",
      "source": [
        "\n",
        "Name = \"Owais\"\n",
        "print (len(Name))"
      ],
      "metadata": {
        "colab": {
          "base_uri": "https://localhost:8080/"
        },
        "id": "WlDn_x8FaWPa",
        "outputId": "5f4b13cd-3ae6-48eb-e3b4-63e2cfb87e76"
      },
      "execution_count": null,
      "outputs": [
        {
          "output_type": "stream",
          "name": "stdout",
          "text": [
            "5\n"
          ]
        }
      ]
    },
    {
      "cell_type": "code",
      "source": [
        "Data Type Checker"
      ],
      "metadata": {
        "id": "KXz1z6WWcY2E"
      },
      "execution_count": null,
      "outputs": []
    },
    {
      "cell_type": "code",
      "source": [
        "Y = [ 1, 2, 3, ]"
      ],
      "metadata": {
        "id": "Kg5EYSA9ce4O"
      },
      "execution_count": null,
      "outputs": []
    },
    {
      "cell_type": "code",
      "source": [
        "print (type(Y))"
      ],
      "metadata": {
        "colab": {
          "base_uri": "https://localhost:8080/"
        },
        "id": "ga33tA-xcu6o",
        "outputId": "bc7c2bc2-d3b5-4efd-ca5e-adaaead984f2"
      },
      "execution_count": null,
      "outputs": [
        {
          "output_type": "stream",
          "name": "stdout",
          "text": [
            "<class 'list'>\n"
          ]
        }
      ]
    },
    {
      "cell_type": "code",
      "source": [
        "print (type(Z))"
      ],
      "metadata": {
        "colab": {
          "base_uri": "https://localhost:8080/"
        },
        "id": "pgxu9DSndoYW",
        "outputId": "0f36fde8-0010-4d07-ae4b-bd0bf830caae"
      },
      "execution_count": null,
      "outputs": [
        {
          "output_type": "stream",
          "name": "stdout",
          "text": [
            "<class 'tuple'>\n"
          ]
        }
      ]
    },
    {
      "cell_type": "code",
      "source": [
        "Convert to string"
      ],
      "metadata": {
        "id": "Id8T-1sTdy2F"
      },
      "execution_count": null,
      "outputs": []
    },
    {
      "cell_type": "code",
      "source": [
        "Age = 27"
      ],
      "metadata": {
        "id": "20t3crLGd9Bz"
      },
      "execution_count": null,
      "outputs": []
    },
    {
      "cell_type": "code",
      "source": [
        "print (\"Age:\" + str(Age))"
      ],
      "metadata": {
        "colab": {
          "base_uri": "https://localhost:8080/"
        },
        "id": "Dm4_3buJeGC6",
        "outputId": "87e3eed7-07c8-48fb-fd6a-7abf1d57887e"
      },
      "execution_count": null,
      "outputs": [
        {
          "output_type": "stream",
          "name": "stdout",
          "text": [
            "Age:27\n"
          ]
        }
      ]
    },
    {
      "cell_type": "code",
      "source": [
        "U = [ 1 , 2 , 3 ]"
      ],
      "metadata": {
        "id": "7yykus6Tel5q"
      },
      "execution_count": null,
      "outputs": []
    },
    {
      "cell_type": "code",
      "source": [
        "print (max(U))"
      ],
      "metadata": {
        "colab": {
          "base_uri": "https://localhost:8080/"
        },
        "id": "aI3_LqzDfAMX",
        "outputId": "2755ae03-4294-43be-ed07-3e073c263ed1"
      },
      "execution_count": null,
      "outputs": [
        {
          "output_type": "stream",
          "name": "stdout",
          "text": [
            "3\n"
          ]
        }
      ]
    },
    {
      "cell_type": "code",
      "source": [
        "print (min(U))"
      ],
      "metadata": {
        "colab": {
          "base_uri": "https://localhost:8080/"
        },
        "id": "M76435UfoGRc",
        "outputId": "e754c630-ea25-4157-97b0-9303b4b1b1d2"
      },
      "execution_count": null,
      "outputs": [
        {
          "output_type": "stream",
          "name": "stdout",
          "text": [
            "1\n"
          ]
        }
      ]
    },
    {
      "cell_type": "code",
      "source": [
        "print (sum(U))"
      ],
      "metadata": {
        "colab": {
          "base_uri": "https://localhost:8080/"
        },
        "id": "e9zCl57IoTBJ",
        "outputId": "4e6c8132-4573-4eca-98d3-69bd109ee87e"
      },
      "execution_count": null,
      "outputs": [
        {
          "output_type": "stream",
          "name": "stdout",
          "text": [
            "6\n"
          ]
        }
      ]
    },
    {
      "cell_type": "code",
      "source": [
        "print (sorted(U))"
      ],
      "metadata": {
        "colab": {
          "base_uri": "https://localhost:8080/"
        },
        "id": "ocQrhOgAoYAc",
        "outputId": "7b4da99e-5221-4e28-84ab-8dc67d8db688"
      },
      "execution_count": null,
      "outputs": [
        {
          "output_type": "stream",
          "name": "stdout",
          "text": [
            "[1, 2, 3]\n"
          ]
        }
      ]
    },
    {
      "cell_type": "code",
      "source": [],
      "metadata": {
        "id": "LFOYRR-CoiBF"
      },
      "execution_count": null,
      "outputs": []
    },
    {
      "cell_type": "code",
      "source": [
        "Name = input ( \"Enter your Name:\")"
      ],
      "metadata": {
        "colab": {
          "base_uri": "https://localhost:8080/"
        },
        "id": "iys5VRMEfFrb",
        "outputId": "a2d1387a-8149-4655-9f5e-903f9b3ac1c6"
      },
      "execution_count": null,
      "outputs": [
        {
          "name": "stdout",
          "output_type": "stream",
          "text": [
            "Enter your Name:Owais\n"
          ]
        }
      ]
    },
    {
      "cell_type": "code",
      "source": [
        "print (\"Hello\" , Name)"
      ],
      "metadata": {
        "id": "-8xSs--vcRyb",
        "colab": {
          "base_uri": "https://localhost:8080/"
        },
        "outputId": "1ad4481f-a530-4fc0-b4b8-9789978af716"
      },
      "execution_count": null,
      "outputs": [
        {
          "output_type": "stream",
          "name": "stdout",
          "text": [
            "Hello Owais\n"
          ]
        }
      ]
    },
    {
      "cell_type": "code",
      "source": [
        "E = -7\n",
        "print (abs(-7))"
      ],
      "metadata": {
        "id": "zZVBjtUjoLZi",
        "colab": {
          "base_uri": "https://localhost:8080/"
        },
        "outputId": "7b9e8f93-7211-41ae-d5e1-42df12b26b8c"
      },
      "execution_count": null,
      "outputs": [
        {
          "output_type": "stream",
          "name": "stdout",
          "text": [
            "7\n"
          ]
        }
      ]
    },
    {
      "cell_type": "code",
      "source": [
        "any"
      ],
      "metadata": {
        "id": "GguL4S89fYDM"
      },
      "execution_count": null,
      "outputs": []
    },
    {
      "cell_type": "code",
      "source": [
        "\n",
        "U = 5 , 6 , 8\n",
        "print (all(num >0 for num in U))"
      ],
      "metadata": {
        "colab": {
          "base_uri": "https://localhost:8080/"
        },
        "id": "auZQFvXpeeq2",
        "outputId": "c31e2c17-ea9f-42eb-903a-bae7db1b6a5e"
      },
      "execution_count": null,
      "outputs": [
        {
          "output_type": "stream",
          "name": "stdout",
          "text": [
            "True\n"
          ]
        }
      ]
    },
    {
      "cell_type": "code",
      "source": [
        "enumerate()"
      ],
      "metadata": {
        "id": "I1IruaXZfN1-"
      },
      "execution_count": null,
      "outputs": []
    },
    {
      "cell_type": "code",
      "source": [
        "\n",
        "V = [\"apple\", \"banana\", \"mango\"]\n",
        "for me , fruit in enumerate(V):\n",
        "    print(me, fruit)"
      ],
      "metadata": {
        "colab": {
          "base_uri": "https://localhost:8080/"
        },
        "id": "jp7CMHuWfhe1",
        "outputId": "6a231ee8-9996-4eef-e0cf-206b8704c43d"
      },
      "execution_count": null,
      "outputs": [
        {
          "output_type": "stream",
          "name": "stdout",
          "text": [
            "0 apple\n",
            "1 banana\n",
            "2 mango\n"
          ]
        }
      ]
    },
    {
      "cell_type": "code",
      "source": [
        "Filter"
      ],
      "metadata": {
        "id": "mhfLGur7gXne"
      },
      "execution_count": null,
      "outputs": []
    },
    {
      "cell_type": "code",
      "source": [
        "\n",
        "nums = [1, 2, 3, 4]\n",
        "even = filter(lambda x: x % 2 == 0, nums)\n",
        "print(list(even))  # Output: [2, 4]"
      ],
      "metadata": {
        "colab": {
          "base_uri": "https://localhost:8080/"
        },
        "id": "zy1MUNUchQAs",
        "outputId": "ca04e62e-fefc-4d79-c66e-61b3aa0e3d8b"
      },
      "execution_count": null,
      "outputs": [
        {
          "output_type": "stream",
          "name": "stdout",
          "text": [
            "[2, 4]\n"
          ]
        }
      ]
    },
    {
      "cell_type": "code",
      "source": [
        "Map"
      ],
      "metadata": {
        "id": "7F_OrnuGhtng"
      },
      "execution_count": null,
      "outputs": []
    },
    {
      "cell_type": "code",
      "source": [
        "nums = [1, 2, 3]\n",
        "squares = map(lambda x: x**2, nums)\n",
        "print(list(squares))  # Output: [1, 4, 9]"
      ],
      "metadata": {
        "colab": {
          "base_uri": "https://localhost:8080/"
        },
        "id": "NY0leBOqhhew",
        "outputId": "d26b7ff1-5352-4bec-fdb8-1adb277e69ae"
      },
      "execution_count": null,
      "outputs": [
        {
          "output_type": "stream",
          "name": "stdout",
          "text": [
            "[1, 4, 9]\n"
          ]
        }
      ]
    },
    {
      "cell_type": "code",
      "source": [
        "Pow"
      ],
      "metadata": {
        "id": "6ZpadZbJhxsb"
      },
      "execution_count": null,
      "outputs": []
    },
    {
      "cell_type": "code",
      "source": [
        "\n",
        "print(pow(2, 3))       # Output: 8\n",
        "print(pow(2, 3, 5))    # Output: 3 (8 % 5)"
      ],
      "metadata": {
        "colab": {
          "base_uri": "https://localhost:8080/"
        },
        "id": "JbHekE7iiU9W",
        "outputId": "4e8e3245-72ad-4a55-eb78-9b68c525f8c5"
      },
      "execution_count": null,
      "outputs": [
        {
          "output_type": "stream",
          "name": "stdout",
          "text": [
            "8\n",
            "3\n"
          ]
        }
      ]
    },
    {
      "cell_type": "code",
      "source": [
        "Round"
      ],
      "metadata": {
        "id": "kK1STZlEiwI1"
      },
      "execution_count": null,
      "outputs": []
    },
    {
      "cell_type": "code",
      "source": [
        "print(round(3.14159, 2))  # Output: 3.14"
      ],
      "metadata": {
        "colab": {
          "base_uri": "https://localhost:8080/"
        },
        "id": "DAqgdIK1i6CB",
        "outputId": "33a6f7d5-6501-45a1-e550-f1d8993b5eed"
      },
      "execution_count": null,
      "outputs": [
        {
          "output_type": "stream",
          "name": "stdout",
          "text": [
            "3.14\n"
          ]
        }
      ]
    },
    {
      "cell_type": "code",
      "source": [
        "isinstance()"
      ],
      "metadata": {
        "id": "9v1SgTJIjKtG"
      },
      "execution_count": null,
      "outputs": []
    },
    {
      "cell_type": "code",
      "source": [
        "x = 5\n",
        "print(isinstance(x, int))  # Output: True"
      ],
      "metadata": {
        "colab": {
          "base_uri": "https://localhost:8080/"
        },
        "id": "GrcI1kjvje2Q",
        "outputId": "8a81225c-8004-456f-9520-6d331cd5fc7a"
      },
      "execution_count": null,
      "outputs": [
        {
          "output_type": "stream",
          "name": "stdout",
          "text": [
            "True\n"
          ]
        }
      ]
    }
  ]
}